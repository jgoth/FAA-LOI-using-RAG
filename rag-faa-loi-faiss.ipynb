{
 "cells": [
  {
   "cell_type": "code",
   "execution_count": 39,
   "id": "ea7dba26-0747-446c-93f5-e7872263cadc",
   "metadata": {
    "tags": []
   },
   "outputs": [],
   "source": [
    "from langchain.vectorstores import FAISS\n",
    "from langchain.embeddings import OpenAIEmbeddings\n",
    "from langchain.prompts import PromptTemplate\n",
    "from langchain.chains import RetrievalQA\n",
    "from langchain.chat_models import ChatOpenAI\n",
    "from langchain.text_splitter import RecursiveCharacterTextSplitter\n",
    "from dotenv import load_dotenv, dotenv_values\n",
    "from langchain.document_loaders import PyPDFLoader, PyPDFDirectoryLoader # for loading the pdf\n",
    "import pprint\n",
    "import glob\n",
    "from pypdf import PdfReader\n",
    "import chromadb\n",
    "import os\n",
    "import re"
   ]
  },
  {
   "cell_type": "markdown",
   "id": "776c84fb-05dc-43b1-a53a-0408a879b4b6",
   "metadata": {},
   "source": [
    "## Load configuration from Shared and Secret"
   ]
  },
  {
   "cell_type": "code",
   "execution_count": 40,
   "id": "d5f988ae-15fb-43eb-85be-9a340657047f",
   "metadata": {
    "tags": []
   },
   "outputs": [],
   "source": [
    "config = {\n",
    "    **dotenv_values(\".env.shared\"),  # load shared development variables\n",
    "    **dotenv_values(\".env.secret\"),  # load sensitive variables\n",
    "    **os.environ,  # override loaded values with environment variables\n",
    "}"
   ]
  },
  {
   "cell_type": "code",
   "execution_count": 41,
   "id": "3085f5f3-2959-4ec3-9d69-36a43c767f40",
   "metadata": {
    "tags": []
   },
   "outputs": [],
   "source": [
    "db_type = \"faiss\"\n",
    "collection_name = \"loi\"\n",
    "db_name = collection_name + \"_db_\" + db_type\n",
    "vector_db_location_value = \"VECTOR_DB_PATH\"\n",
    "ABS_PATH = os.path.dirname(config[vector_db_location_value])\n",
    "DB_DIR = os.path.join(ABS_PATH, db_name)"
   ]
  },
  {
   "cell_type": "code",
   "execution_count": 42,
   "id": "7c8b2a96-d0b8-467e-9a7e-1b1d8cd8c5db",
   "metadata": {
    "tags": []
   },
   "outputs": [],
   "source": [
    "def get_documents(config):\n",
    "    loader = PyPDFDirectoryLoader(collection_name, silent_errors = True)\n",
    "    docs = loader.load()\n",
    "    text_splitter = RecursiveCharacterTextSplitter(\n",
    "        chunk_size = config[\"CHUNK_SIZE\"],\n",
    "        chunk_overlap = 20,\n",
    "        length_function = len,\n",
    "        is_separator_regex = False\n",
    "    )\n",
    "    \n",
    "    data = loader.load_and_split(text_splitter)\n",
    "    return data"
   ]
  },
  {
   "cell_type": "code",
   "execution_count": 43,
   "id": "dfa673da-3603-4360-b0f2-6e178d2024e2",
   "metadata": {
    "tags": []
   },
   "outputs": [],
   "source": [
    "def has_documents(vectorstore):\n",
    "    documents = vectorstore.similarity_search(\"\")\n",
    "    return len(documents) > 0"
   ]
  },
  {
   "cell_type": "code",
   "execution_count": 44,
   "id": "5c3f5249-b793-42cb-9389-50d2aebc4ae8",
   "metadata": {
    "tags": []
   },
   "outputs": [],
   "source": [
    "def replace_newlines_and_spaces(text):\n",
    "    # Replace all newline characters with spaces\n",
    "    text = text.replace(\"\\n\", \" \")\n",
    "\n",
    "    # Replace multiple spaces with a single space\n",
    "    text = re.sub(r'\\s+', ' ', text)\n",
    "\n",
    "    return text\n",
    "\n"
   ]
  },
  {
   "cell_type": "code",
   "execution_count": 45,
   "id": "021e57e4-d776-4ca3-b535-905d4b9dbec1",
   "metadata": {
    "tags": []
   },
   "outputs": [],
   "source": [
    "def init_vectordb(config):\n",
    "    db_path_exists = os.path.exists(DB_DIR)\n",
    "    embeddings = OpenAIEmbeddings(openai_api_key=config['OPENAI_API_KEY'])\n",
    "\n",
    "   \n",
    "    vectorstore = None\n",
    "    if db_path_exists:\n",
    "        print(\"Loading existing vectordb...\")\n",
    "        vectorstore = FAISS.load_local(folder_path=db_name, embeddings=embeddings)\n",
    "        print(\"Finished loading existing vectordb.\")\n",
    "    else:\n",
    "        print(\"Loading vectordb...\")\n",
    "        documents = []\n",
    "        for num, doc in enumerate(get_documents(config)):\n",
    "            doc.page_content = replace_newlines_and_spaces(doc.page_content)\n",
    "            documents.append(doc)    \n",
    "        vectorstore = FAISS.from_documents(documents=docs, embedding=embeddings)\n",
    "        vectorstore.save_local(folder_path=db_name)\n",
    "        print(\"Finished loading vectordb.\")\n",
    "    return vectorstore"
   ]
  },
  {
   "cell_type": "code",
   "execution_count": 46,
   "id": "ba824a19-14bf-4372-82ba-a8c5679eebc9",
   "metadata": {},
   "outputs": [
    {
     "name": "stdout",
     "output_type": "stream",
     "text": [
      "Loading existing vectordb...\n",
      "Finished loading existing vectordb.\n"
     ]
    }
   ],
   "source": [
    "vectorstore = init_vectordb(config)"
   ]
  },
  {
   "cell_type": "code",
   "execution_count": 47,
   "id": "5108f42f-f86b-4a99-9972-5722d4ea5480",
   "metadata": {},
   "outputs": [
    {
     "name": "stdout",
     "output_type": "stream",
     "text": [
      "Has documents: True\n"
     ]
    }
   ],
   "source": [
    "print(\"Has documents: \" + str(has_documents(vectorstore)))"
   ]
  },
  {
   "cell_type": "code",
   "execution_count": 48,
   "id": "a0be4b99-3313-43cb-8a9c-5b2454dde2fc",
   "metadata": {
    "tags": []
   },
   "outputs": [
    {
     "name": "stdout",
     "output_type": "stream",
     "text": [
      "{'query': 'Can I perform preventative maintenance with a sport pilot '\n",
      "          'certificate?',\n",
      " 'result': 'Yes, the holder of a sport pilot certificate may perform '\n",
      "           'preventive maintenance, but only on an aircraft that has been '\n",
      "           'issued a special airworthiness certificate.',\n",
      " 'source_documents': [Document(page_content='pilot certificate may perform preventive maintenance on an aircraft owned or operated by \\nthat pilot and issued a special aiIWorthiness certificate in the light-sport category.', metadata={'source': 'loi/McCreary_2018_Legal_Interpretation.pdf', 'page': 2}),\n",
      "                      Document(page_content='That regulation, with the exception that the holder of a sport pilot certificate may perform \\npreventive maintenance only on an aircraft that has been issued a special airworthiness certificate', metadata={'source': 'loi/McCreary_2018_Legal_Interpretation.pdf', 'page': 0}),\n",
      "                      Document(page_content='AGC-200, addressing the question: Whether a student pilot may perform preventive maintenance.', metadata={'source': 'loi/McCreary_2018_Legal_Interpretation.pdf', 'page': 0}),\n",
      "                      Document(page_content='Re: Whether the Holder of a Recreational Pilot Certificate may Perform \\nPreventive Maintenance on an Aircraft Owned by that Pilot \\nDear Mr. McCreary:', metadata={'source': 'loi/McCreary_2018_Legal_Interpretation.pdf', 'page': 0})]}\n",
      "{'query': 'How am I exempted from 100 hour inspections for a club flying '\n",
      "          'aircraft?',\n",
      " 'result': 'The document suggests that an aircraft may be exempted from the '\n",
      "           '100-hour inspection requirement if it is owned by a flying club '\n",
      "           'and provided to club members for flight training. However, it also '\n",
      "           'notes that this is not always the case and the aircraft, when '\n",
      "           'offered for instruction for compensation, may still be subject to '\n",
      "           'the § 91.409 100-hour inspection requirement. The specific '\n",
      "           'conditions for exemption are not detailed in the provided '\n",
      "           'document.',\n",
      " 'source_documents': [Document(page_content='There b a growing concern over flying clubs being exempted from the 100 hr. inspection requiremen ts \\nof 14 CFR 91.409.', metadata={'source': 'loi/Pipitone_2016_Legal_Interpretation.pdf', 'page': 3}),\n",
      "                      Document(page_content='not considered club owned, it appears the 100 hour inspection requirement of 14 CFR 91.409 is required \\nwhen the aircraft is provided to club members by the club and owner for flight instruction.', metadata={'source': 'loi/Pipitone_2016_Legal_Interpretation.pdf', 'page': 3}),\n",
      "                      Document(page_content='considered the owners, you state they are the providers of the aircraft for flight training, and as \\nsuch, the aircraft is exempted from the 100-hour inspection requirement. In particular, you ask', metadata={'source': 'loi/Pipitone_2016_Legal_Interpretation.pdf', 'page': 0}),\n",
      "                      Document(page_content='the club), the aircraft, when offered for instruction for compensation, is subject to the § 91.409 \\nI 00-hour inspection requirement. As discussed below, this is not necessarily the case.', metadata={'source': 'loi/Pipitone_2016_Legal_Interpretation.pdf', 'page': 1})]}\n"
     ]
    }
   ],
   "source": [
    "template = \"\"\"\n",
    "        You are a bot that answers questions about the content of the document. If you don't know the answer,\n",
    "        simply state that you don't know.\n",
    "\n",
    "        {context}\n",
    "\n",
    "        Question: {question}    \n",
    "\"\"\"\n",
    "\n",
    "questions=[\n",
    "    \"Can I perform preventative maintenance with a sport pilot certificate?\", \n",
    "    \"How am I exempted from 100 hour inspections for a club flying aircraft?\"\n",
    "]\n",
    "\n",
    "    \n",
    "PROMPT = PromptTemplate(template=template, input_variables=[\"context\", \"question\"])\n",
    "llm = ChatOpenAI(openai_api_key=config['OPENAI_API_KEY'], temperature=0.2, model=\"gpt-4\")\n",
    "#llm = GPT4All(model=modelpath)\n",
    "#llm = GPT4All()\n",
    "qa_with_source = RetrievalQA.from_chain_type(llm=llm, chain_type=\"stuff\", retriever=vectorstore.as_retriever(), chain_type_kwargs={\"prompt\": PROMPT, }, return_source_documents=True, )\n",
    "for question in questions:\n",
    "    pprint.pprint(qa_with_source(question))\n"
   ]
  },
  {
   "cell_type": "code",
   "execution_count": null,
   "id": "a57d83be-5f88-446e-b628-129cdaa2d5a2",
   "metadata": {},
   "outputs": [],
   "source": []
  }
 ],
 "metadata": {
  "kernelspec": {
   "display_name": "Python 3 (ipykernel)",
   "language": "python",
   "name": "python3"
  },
  "language_info": {
   "codemirror_mode": {
    "name": "ipython",
    "version": 3
   },
   "file_extension": ".py",
   "mimetype": "text/x-python",
   "name": "python",
   "nbconvert_exporter": "python",
   "pygments_lexer": "ipython3",
   "version": "3.11.5"
  }
 },
 "nbformat": 4,
 "nbformat_minor": 5
}
